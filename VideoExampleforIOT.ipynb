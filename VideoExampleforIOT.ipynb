{
 "cells": [
  {
   "cell_type": "code",
   "execution_count": 3,
   "metadata": {},
   "outputs": [],
   "source": [
    "import yt_dlp # YouTube videolarını yükləmək üçün istifadə edilən Python kitabxanasıdır.\n",
    "import vlc    # Video oynatma funksiyasını təmin edən VLC media pleyerinin Python konnektoru.\n",
    "import time   # Zamanla əlaqəli əməliyyatları yerinə yetirmək üçün istifadə edilən standart Python kitabxanasıdır."
   ]
  },
  {
   "cell_type": "code",
   "execution_count": 23,
   "metadata": {},
   "outputs": [
    {
     "name": "stdout",
     "output_type": "stream",
     "text": [
      "[youtube] Extracting URL: https://www.youtube.com/watch?v=FLIUGmBlABw\n",
      "[youtube] FLIUGmBlABw: Downloading webpage\n",
      "[youtube] FLIUGmBlABw: Downloading ios player API JSON\n",
      "[youtube] FLIUGmBlABw: Downloading player 1f8742dc\n"
     ]
    },
    {
     "name": "stderr",
     "output_type": "stream",
     "text": [
      "WARNING: [youtube] FLIUGmBlABw: nsig extraction failed: Some formats may be missing\n",
      "         n = Oa11Jf_eFEYMQBWAQ ; player = https://www.youtube.com/s/player/1f8742dc/player_ias.vflset/en_US/base.js\n",
      "WARNING: [youtube] FLIUGmBlABw: nsig extraction failed: Some formats may be missing\n",
      "         n = 7mky-HnGHGvLzrsp4 ; player = https://www.youtube.com/s/player/1f8742dc/player_ias.vflset/en_US/base.js\n"
     ]
    },
    {
     "name": "stdout",
     "output_type": "stream",
     "text": [
      "[youtube] FLIUGmBlABw: Downloading m3u8 information\n",
      "format code: sb3, extension: mhtml, resolution: 48x27\n",
      "format code: sb2, extension: mhtml, resolution: 80x45\n",
      "format code: sb1, extension: mhtml, resolution: 160x90\n",
      "format code: sb0, extension: mhtml, resolution: 320x180\n",
      "format code: 233, extension: mp4, resolution: audio only\n",
      "format code: 234, extension: mp4, resolution: audio only\n",
      "format code: 139-drc, extension: m4a, resolution: audio only\n",
      "format code: 139, extension: m4a, resolution: audio only\n",
      "format code: 140-drc, extension: m4a, resolution: audio only\n",
      "format code: 140, extension: m4a, resolution: audio only\n",
      "format code: 602, extension: mp4, resolution: 256x144\n",
      "format code: 269, extension: mp4, resolution: 256x144\n",
      "format code: 160, extension: mp4, resolution: 256x144\n",
      "format code: 603, extension: mp4, resolution: 256x144\n",
      "format code: 229, extension: mp4, resolution: 426x240\n",
      "format code: 133, extension: mp4, resolution: 426x240\n",
      "format code: 604, extension: mp4, resolution: 426x240\n",
      "format code: 230, extension: mp4, resolution: 640x360\n",
      "format code: 134, extension: mp4, resolution: 640x360\n",
      "format code: 605, extension: mp4, resolution: 640x360\n",
      "format code: 231, extension: mp4, resolution: 854x480\n",
      "format code: 135, extension: mp4, resolution: 854x480\n",
      "format code: 606, extension: mp4, resolution: 854x480\n",
      "format code: 232, extension: mp4, resolution: 1280x720\n",
      "format code: 136, extension: mp4, resolution: 1280x720\n",
      "format code: 609, extension: mp4, resolution: 1280x720\n",
      "format code: 270, extension: mp4, resolution: 1920x1080\n",
      "format code: 137, extension: mp4, resolution: 1920x1080\n",
      "format code: 614, extension: mp4, resolution: 1920x1080\n"
     ]
    }
   ],
   "source": [
    "#Uygun formatlar \n",
    "url = 'https://www.youtube.com/watch?v=FLIUGmBlABw'\n",
    "\n",
    "ydl_opts = {}\n",
    "\n",
    "with yt_dlp.YoutubeDL(ydl_opts) as ydl:\n",
    "    info_dict = ydl.extract_info(url, download=False)\n",
    "    formats = info_dict.get('formats', [])\n",
    "\n",
    "for f in formats:\n",
    "    print(f'format code: {f[\"format_id\"]}, extension: {f[\"ext\"]}, resolution: {f.get(\"resolution\")}')"
   ]
  },
  {
   "cell_type": "code",
   "execution_count": 24,
   "metadata": {},
   "outputs": [],
   "source": [
    "# YouTube video URL-i\n",
    "url = 'https://www.youtube.com/watch?si=Knp45xIuYuAib31s&v=FLIUGmBlABw&feature=youtu.be'"
   ]
  },
  {
   "cell_type": "code",
   "execution_count": 25,
   "metadata": {},
   "outputs": [],
   "source": [
    "# Video endirilməsi üçün yt-dlp konfiqurasiyası\n",
    "ydl_opts = {\n",
    "    'outtmpl': r'C:\\Users\\HP\\Downloads\\video.mp4',\n",
    "    'format': 'bestvideo+bestaudio/best'\n",
    "}"
   ]
  },
  {
   "cell_type": "code",
   "execution_count": 26,
   "metadata": {},
   "outputs": [
    {
     "name": "stdout",
     "output_type": "stream",
     "text": [
      "[youtube] Extracting URL: https://www.youtube.com/watch?si=Knp45xIuYuAib31s&v=FLIUGmBlABw&feature=youtu.be\n",
      "[youtube] FLIUGmBlABw: Downloading webpage\n",
      "[youtube] FLIUGmBlABw: Downloading ios player API JSON\n",
      "[youtube] FLIUGmBlABw: Downloading player 1f8742dc\n"
     ]
    },
    {
     "name": "stderr",
     "output_type": "stream",
     "text": [
      "WARNING: [youtube] FLIUGmBlABw: nsig extraction failed: Some formats may be missing\n",
      "         n = NgEXXYiZwOInCf4q9 ; player = https://www.youtube.com/s/player/1f8742dc/player_ias.vflset/en_US/base.js\n",
      "WARNING: [youtube] FLIUGmBlABw: nsig extraction failed: Some formats may be missing\n",
      "         n = r8KeB-F2Z7xNrE1pA ; player = https://www.youtube.com/s/player/1f8742dc/player_ias.vflset/en_US/base.js\n"
     ]
    },
    {
     "name": "stdout",
     "output_type": "stream",
     "text": [
      "[youtube] FLIUGmBlABw: Downloading m3u8 information\n",
      "[info] FLIUGmBlABw: Downloading 1 format(s): 614+140\n",
      "[download] C:\\Users\\HP\\Downloads\\video.mp4 has already been downloaded\n"
     ]
    }
   ],
   "source": [
    "# Video endirmək\n",
    "with yt_dlp.YoutubeDL(ydl_opts) as ydl: #Yükləmə seçimləri ilə yt-dlp obyekt yaradır .\n",
    "    ydl.download([url])"
   ]
  },
  {
   "cell_type": "code",
   "execution_count": 27,
   "metadata": {},
   "outputs": [],
   "source": [
    "def wait_for_playback_to_finish(player):\n",
    "    # Get the video duration in seconds\n",
    "    while True:\n",
    "        length = player.get_length()\n",
    "        if length > 0:\n",
    "            duration = length / 1000  # Convert milliseconds to seconds\n",
    "            break\n",
    "        time.sleep(0.1)  # Wait 100 ms before trying again\n",
    "\n",
    "    # Wait for the playback to finish\n",
    "    start_time = time.time()\n",
    "    while player.get_state() != vlc.State.Ended:\n",
    "        current_time = time.time()\n",
    "        if current_time - start_time >= duration:\n",
    "            break\n",
    "        time.sleep(1)  # Check every second"
   ]
  },
  {
   "cell_type": "code",
   "execution_count": 31,
   "metadata": {},
   "outputs": [
    {
     "data": {
      "text/plain": [
       "'VLC media player obyekti yaradır.\\nvideo.mp4 Yüklənmiş video faylı ( ) VLC media obyekti kimi təyin edir.\\n Media obyektini VLC playerinə bağlayır.'"
      ]
     },
     "execution_count": 31,
     "metadata": {},
     "output_type": "execute_result"
    }
   ],
   "source": [
    "# VLC player obyektini yaradın\n",
    "player = vlc.MediaPlayer()\n",
    "media = vlc.Media( r'C:\\Users\\HP\\Downloads\\video.mp4')\n",
    "player.set_media(media)\n",
    "'''VLC media player obyekti yaradır.\n",
    "video.mp4 Yüklənmiş video faylı ( ) VLC media obyekti kimi təyin edir.\n",
    " Media obyektini VLC playerinə bağlayır.'''"
   ]
  },
  {
   "cell_type": "code",
   "execution_count": 32,
   "metadata": {},
   "outputs": [
    {
     "name": "stdout",
     "output_type": "stream",
     "text": [
      "Playback has finished.\n"
     ]
    }
   ],
   "source": [
    "player.play()\n",
    "wait_for_playback_to_finish(player)\n",
    "print(\"Playback has finished.\")"
   ]
  }
 ],
 "metadata": {
  "kernelspec": {
   "display_name": "Python 3",
   "language": "python",
   "name": "python3"
  },
  "language_info": {
   "codemirror_mode": {
    "name": "ipython",
    "version": 3
   },
   "file_extension": ".py",
   "mimetype": "text/x-python",
   "name": "python",
   "nbconvert_exporter": "python",
   "pygments_lexer": "ipython3",
   "version": "3.12.4"
  }
 },
 "nbformat": 4,
 "nbformat_minor": 2
}
