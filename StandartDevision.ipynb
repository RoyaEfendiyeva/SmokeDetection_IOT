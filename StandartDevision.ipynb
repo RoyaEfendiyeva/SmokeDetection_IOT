{
 "cells": [
  {
   "cell_type": "code",
   "execution_count": 1,
   "metadata": {},
   "outputs": [],
   "source": [
    "import seaborn as sns\n",
    "import matplotlib.pyplot as plt\n",
    "import pandas as pd"
   ]
  },
  {
   "cell_type": "code",
   "execution_count": 2,
   "metadata": {},
   "outputs": [],
   "source": [
    "#CLEANED DATA\n",
    "df = pd.read_csv(r'C:\\Users\\HP\\Downloads\\CleanedSmokeDetection_iot.csv')"
   ]
  },
  {
   "cell_type": "code",
   "execution_count": 3,
   "metadata": {},
   "outputs": [
    {
     "name": "stdout",
     "output_type": "stream",
     "text": [
      "Standart Deviation: 13.68\n",
      "Mean Value: 15.83\n"
     ]
    }
   ],
   "source": [
    "\n",
    "# Calculate standard deviation of column 'Temperature[C]'\n",
    "std_dev = df['Temperature[C]'].std()\n",
    "meanvalue = df['Temperature[C]'].mean()\n",
    "\n",
    "print(f'Standart Deviation: {std_dev:.2f}')\n",
    "print(f'Mean Value: {meanvalue:.2f}')"
   ]
  },
  {
   "cell_type": "code",
   "execution_count": 4,
   "metadata": {},
   "outputs": [
    {
     "name": "stdout",
     "output_type": "stream",
     "text": [
      "In this case, the sum of the given data can be calculated as heterogeneous.\n"
     ]
    }
   ],
   "source": [
    "'''\n",
    "Aşağı standart devision (Məsələn, < 1) : Məlumat nöqtələri orta dəyərə yaxın qruplaşdırıla və ya qruplaşdırıla bilər. Bu halda verilənlər toplusu homogen hesab edilə bilər.\n",
    "Yüksək standart devision (Məsələn > 1) : Məlumat nöqtələri orta dəyərdən daha çox yayılmış və ya yayılmış ola bilər. Bu halda verilənlər toplusu heterogen hesab edilə bilər.\n",
    "'''\n",
    "\n",
    "if abs(std_dev-meanvalue)<=1:\n",
    "     print('In this case, the given sum can be calculated as homogeneous.')\n",
    "else:\n",
    "     print('In this case, the sum of the given data can be calculated as heterogeneous.')"
   ]
  }
 ],
 "metadata": {
  "kernelspec": {
   "display_name": "Python 3",
   "language": "python",
   "name": "python3"
  },
  "language_info": {
   "codemirror_mode": {
    "name": "ipython",
    "version": 3
   },
   "file_extension": ".py",
   "mimetype": "text/x-python",
   "name": "python",
   "nbconvert_exporter": "python",
   "pygments_lexer": "ipython3",
   "version": "3.12.4"
  }
 },
 "nbformat": 4,
 "nbformat_minor": 2
}
